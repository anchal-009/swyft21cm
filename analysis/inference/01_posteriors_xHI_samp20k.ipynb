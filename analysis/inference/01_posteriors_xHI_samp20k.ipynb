{
 "cells": [
  {
   "cell_type": "markdown",
   "id": "586f5d59",
   "metadata": {},
   "source": [
    "### Posteriors on $\\bar{x}_{\\rm HI} (z)$ from the 21-cm power spectra"
   ]
  },
  {
   "cell_type": "markdown",
   "id": "39d0f570",
   "metadata": {},
   "source": [
    "---\n",
    "Importing dependencies"
   ]
  },
  {
   "cell_type": "code",
   "execution_count": 1,
   "id": "6b39242d",
   "metadata": {},
   "outputs": [],
   "source": [
    "import sys; sys.path.insert(1, \"./../../../\")\n",
    "from swyft21cm.utils.interpolation import calc_kSpline, interp_pk, interp_plan\n",
    "from swyft21cm.utils.plot import plotIonzHist\n",
    "\n",
    "import os\n",
    "import seaborn as sns\n",
    "import numpy as np\n",
    "np.random.seed(27);\n",
    "\n",
    "from scipy import stats\n",
    "import torch\n",
    "torch.manual_seed(27);\n",
    "\n",
    "import swyft as sl\n",
    "import pytorch_lightning as pl\n",
    "import pickle\n",
    "\n",
    "from tabulate import tabulate\n",
    "import matplotlib.pyplot as plt\n",
    "plt.rcParams[\"mathtext.fontset\"] = \"stix\"\n",
    "%matplotlib inline"
   ]
  },
  {
   "cell_type": "markdown",
   "id": "6f95eabe",
   "metadata": {},
   "source": [
    "---\n",
    "Copy the store to the local gpu computing node"
   ]
  },
  {
   "cell_type": "code",
   "execution_count": 2,
   "id": "e5f0e8e8",
   "metadata": {},
   "outputs": [
    {
     "name": "stdout",
     "output_type": "stream",
     "text": [
      "CPU times: user 18 µs, sys: 9 µs, total: 27 µs\n",
      "Wall time: 30.5 µs\n"
     ]
    }
   ],
   "source": [
    "%%time\n",
    "if not os.path.exists(\"/tmp/21cmPk_SeedVar\"):\n",
    "    !cp -r /scratch/p303146/21cmPk_SeedVar* /tmp/"
   ]
  },
  {
   "cell_type": "markdown",
   "id": "f976208d",
   "metadata": {},
   "source": [
    "---\n",
    "Redshifts, Prior, Paths"
   ]
  },
  {
   "cell_type": "code",
   "execution_count": 3,
   "id": "959f39dc",
   "metadata": {},
   "outputs": [],
   "source": [
    "# Redshifts\n",
    "reds = [24.359810, 20.219959, 17.111031, 14.457590, 12.456770,\n",
    "        10.714930, 9.402521, 8.237142, 7.202319, 6.429094]\n",
    "\n",
    "# Parameters: zeta, Tvir, Rmfp, Lx, E0, alpha\n",
    "labels = [r'$\\zeta$', r'$\\log_{10}(T_{\\rm vir}^{\\rm min})$', r'$R_{\\rm mfp}$',\n",
    "          r'$\\log_{10}(L_{\\rm X})$', r'$E_0$', r'$\\alpha_{\\rm X}$']\n",
    "\n",
    "# True values of the parameters\n",
    "vtrue = np.array([30, 4.69897, 15, 40.5, 500, 1])\n",
    "\n",
    "# Priors\n",
    "vmin = np.array([10, 4.2, 8, 39.5, 100, -0.5])\n",
    "vmax = np.array([100, 5.2, 22, 41.5, 900, 2.5])\n",
    "\n",
    "# k-modes from sim box (no cut applied)\n",
    "kModes = np.load(\"./../../data/kModes.npy\")\n",
    "\n",
    "# Parameters for interpolation\n",
    "Nspline_points = 8\n",
    "Foreground_cut = 0.1\n",
    "Shot_Noise_cut = 0.8\n",
    "\n",
    "# Path for mock observation and noise\n",
    "noisePath = \"./../../data/ska_low_noise.npy\"\n",
    "obsPath = \"./../../data/mockObs.pkl\"\n",
    "\n",
    "# accelerator for the trainer\n",
    "accelerator = \"cuda\" if torch.cuda.is_available() else \"cpu\""
   ]
  },
  {
   "cell_type": "code",
   "execution_count": 4,
   "id": "958952bb",
   "metadata": {},
   "outputs": [
    {
     "name": "stdout",
     "output_type": "stream",
     "text": [
      "k-modes: [0.1 0.2 0.3 0.4 0.5 0.6 0.7 0.8]\n"
     ]
    }
   ],
   "source": [
    "kSpline = calc_kSpline(Foreground_cut, Shot_Noise_cut, Nspline_points)\n",
    "print('k-modes:', kSpline)"
   ]
  },
  {
   "cell_type": "markdown",
   "id": "1f4ec106",
   "metadata": {},
   "source": [
    "---\n",
    "SKA noise simulated using `ps_eor`"
   ]
  },
  {
   "cell_type": "code",
   "execution_count": 5,
   "id": "68848695",
   "metadata": {},
   "outputs": [],
   "source": [
    "# Instrumental noise level from SKA low: sim using ps_eor\n",
    "instNoise = np.load(noisePath)"
   ]
  },
  {
   "cell_type": "markdown",
   "id": "39fbdfc1",
   "metadata": {},
   "source": [
    "---\n",
    "Mock observation"
   ]
  },
  {
   "cell_type": "code",
   "execution_count": 6,
   "id": "96805182",
   "metadata": {},
   "outputs": [],
   "source": [
    "with open(obsPath, 'rb') as f:\n",
    "    obs0 = pickle.load(f)"
   ]
  },
  {
   "cell_type": "markdown",
   "id": "e7b36ad0",
   "metadata": {},
   "source": [
    "---\n",
    "Noise model to be used on-the-fly"
   ]
  },
  {
   "cell_type": "code",
   "execution_count": 7,
   "id": "30c6662f",
   "metadata": {},
   "outputs": [],
   "source": [
    "# Use it as a hook: takes into account the instrumental noise\n",
    "def noise(out):\n",
    "    for i in range(len(reds)):\n",
    "        mu = out['pk_mu_z%.1f'%reds[i]]\n",
    "        \n",
    "        # Interpolate the model power spectra (pk_mod)\n",
    "        splined_mod = interp_plan(k=kModes, pk=mu)\n",
    "        mu_val = interp_pk(pk_spl=splined_mod, kSpline=kSpline, Nspline_points=Nspline_points)\n",
    "\n",
    "        # Check for nan values.\n",
    "        if np.isnan(np.sum(mu_val)):\n",
    "            mu_val = np.zeros(len(kSpline))\n",
    "\n",
    "        n = np.float32(np.random.randn(*instNoise[i].shape))*instNoise[i]\n",
    "        out['pk_z%.1f'%reds[i]] = mu_val + n\n",
    "    return out"
   ]
  },
  {
   "cell_type": "markdown",
   "id": "74ecc69f",
   "metadata": {},
   "source": [
    "---\n",
    "Data loaders: Train, Val, Test"
   ]
  },
  {
   "cell_type": "code",
   "execution_count": 8,
   "id": "69546dfb",
   "metadata": {},
   "outputs": [],
   "source": [
    "zs = sl.ZarrStore(\"/tmp/21cmPk_SeedVar/\")\n",
    "data_loader_train = zs.get_dataloader(num_workers=0, batch_size=64, idx_range=[0, 16_000],\n",
    "                                      on_after_load_sample=noise)\n",
    "data_loader_val = zs.get_dataloader(num_workers=0, batch_size=64, idx_range=[16_000, 18_000],\n",
    "                                    on_after_load_sample=noise)\n",
    "data_loader_test = zs.get_dataloader(num_workers=0, batch_size=64, idx_range=[18_000, 20_000],\n",
    "                                     on_after_load_sample=noise)"
   ]
  },
  {
   "cell_type": "markdown",
   "id": "ddec26f1",
   "metadata": {},
   "source": [
    "---\n",
    "Trainer, callbacks, logger"
   ]
  },
  {
   "cell_type": "code",
   "execution_count": 9,
   "id": "f1553a71",
   "metadata": {},
   "outputs": [],
   "source": [
    "logger = pl.loggers.TensorBoardLogger(\"./lightning_logs\", name = \"post_xHI\")\n",
    "model_checkpoint = pl.callbacks.ModelCheckpoint(monitor = 'val_loss', save_top_k=1)\n",
    "callbacks = [\n",
    "    pl.callbacks.LearningRateMonitor(),\n",
    "    pl.callbacks.EarlyStopping(\"val_loss\", patience=8),\n",
    "    model_checkpoint\n",
    "]"
   ]
  },
  {
   "cell_type": "code",
   "execution_count": 10,
   "id": "5b4647e5",
   "metadata": {},
   "outputs": [
    {
     "name": "stderr",
     "output_type": "stream",
     "text": [
      "GPU available: True (cuda), used: True\n",
      "TPU available: False, using: 0 TPU cores\n",
      "IPU available: False, using: 0 IPUs\n",
      "HPU available: False, using: 0 HPUs\n"
     ]
    }
   ],
   "source": [
    "trainer = sl.SwyftTrainer(accelerator=accelerator, max_epochs=100, logger=logger,\n",
    "                          callbacks=callbacks, precision=64)"
   ]
  },
  {
   "cell_type": "markdown",
   "id": "3c3919b3",
   "metadata": {},
   "source": [
    "---\n",
    "Network architecture"
   ]
  },
  {
   "cell_type": "code",
   "execution_count": 11,
   "id": "467ca313",
   "metadata": {},
   "outputs": [],
   "source": [
    "class Network(sl.SwyftModule):\n",
    "    def __init__(self, lr=1e-3, gamma=1.):\n",
    "        super().__init__()\n",
    "        self.n_features = 64\n",
    "        self.optimizer_init = sl.OptimizerInit(torch.optim.Adam, dict(lr = lr),\n",
    "                                                  torch.optim.lr_scheduler.ExponentialLR,\n",
    "                                                  dict(gamma = gamma, verbose=False))\n",
    "        marginals = self.get_marginals(n_params=len(vtrue))\n",
    "        self.l = torch.nn.Linear(80, self.n_features)\n",
    "        \n",
    "        # Train 1D ratios\n",
    "        self.logratios1 = sl.LogRatioEstimator_1dim(num_features=self.n_features,\n",
    "                                                    num_params=len(reds),\n",
    "                                                    hidden_features=256,\n",
    "                                                    num_blocks=3,\n",
    "                                                    dropout=0.2,\n",
    "                                                    varnames='z')\n",
    "\n",
    "    @staticmethod\n",
    "    def get_marginals(n_params):\n",
    "        marginals = []\n",
    "        for i in range(n_params):\n",
    "            for j in range(n_params):\n",
    "                if j>i: marginals.append((i, j))\n",
    "        return tuple(marginals)\n",
    "        \n",
    "    def forward(self, A, B):\n",
    "        x = torch.cat([A['pk_z%.1f'%zi] for zi in reds], axis=1)\n",
    "        x = self.l(x)\n",
    "        z = B['xHI']\n",
    "        ratios_1 = self.logratios1(x, z)\n",
    "        return ratios_1"
   ]
  },
  {
   "cell_type": "code",
   "execution_count": 12,
   "id": "d49c120a",
   "metadata": {},
   "outputs": [],
   "source": [
    "network = Network(lr=1e-3, gamma=0.95)"
   ]
  },
  {
   "cell_type": "markdown",
   "id": "d7510eae",
   "metadata": {},
   "source": [
    "---\n",
    "Training the network"
   ]
  },
  {
   "cell_type": "code",
   "execution_count": 13,
   "id": "f1988816",
   "metadata": {},
   "outputs": [
    {
     "name": "stdout",
     "output_type": "stream",
     "text": [
      "CPU times: user 16.8 ms, sys: 20.7 ms, total: 37.5 ms\n",
      "Wall time: 40.9 ms\n"
     ]
    }
   ],
   "source": [
    "%%time\n",
    "if os.path.exists(\"./output/01_trainedLogRatios_xHI_20k.pt\"):\n",
    "    network.load_state_dict(torch.load(\"./output/01_trainedLogRatios_xHI_20k.pt\"))\n",
    "else:\n",
    "    trainer.fit(network, data_loader_train, data_loader_val)"
   ]
  },
  {
   "cell_type": "markdown",
   "id": "65b94985",
   "metadata": {},
   "source": [
    "---\n",
    "Save the trained model"
   ]
  },
  {
   "cell_type": "code",
   "execution_count": 14,
   "id": "5a213de7",
   "metadata": {},
   "outputs": [],
   "source": [
    "if not os.path.exists(\"./output/01_trainedLogRatios_xHI_20k.pt\"):\n",
    "    torch.save(network.state_dict(), \"./output/01_trainedLogRatios_xHI_20k.pt\")"
   ]
  },
  {
   "cell_type": "markdown",
   "id": "ddf40ac4",
   "metadata": {},
   "source": [
    "---\n",
    "Network's performance on the test dataset"
   ]
  },
  {
   "cell_type": "code",
   "execution_count": 15,
   "id": "fa212573",
   "metadata": {},
   "outputs": [
    {
     "name": "stderr",
     "output_type": "stream",
     "text": [
      "LOCAL_RANK: 0 - CUDA_VISIBLE_DEVICES: [0]\n",
      "2023-08-08 16:21:58.623877: I tensorflow/core/platform/cpu_feature_guard.cc:182] This TensorFlow binary is optimized to use available CPU instructions in performance-critical operations.\n",
      "To enable the following instructions: AVX2 AVX512F FMA, in other operations, rebuild TensorFlow with the appropriate compiler flags.\n",
      "2023-08-08 16:22:01.712273: W tensorflow/compiler/tf2tensorrt/utils/py_utils.cc:38] TF-TRT Warning: Could not find TensorRT\n",
      "/scratch/p303146/.envs/reach/lib/python3.9/site-packages/pytorch_lightning-1.9.0-py3.9.egg/pytorch_lightning/trainer/connectors/data_connector.py:224: PossibleUserWarning: The dataloader, test_dataloader 0, does not have many workers which may be a bottleneck. Consider increasing the value of the `num_workers` argument` (try 8 which is the number of cpus on this machine) in the `DataLoader` init to improve performance.\n",
      "  rank_zero_warn(\n"
     ]
    },
    {
     "data": {
      "application/vnd.jupyter.widget-view+json": {
       "model_id": "66d812d1e70a4091a5d2757a7e633267",
       "version_major": 2,
       "version_minor": 0
      },
      "text/plain": [
       "Testing: 0it [00:00, ?it/s]"
      ]
     },
     "metadata": {},
     "output_type": "display_data"
    },
    {
     "name": "stderr",
     "output_type": "stream",
     "text": [
      "/home3/p303146/Projects/swyft21cm/analysis/inference/./../../../swyft21cm/utils/interpolation.py:15: RuntimeWarning: divide by zero encountered in log10\n",
      "  return scipy.interpolate.splrep(k, np.log10(pk), s=0)\n"
     ]
    },
    {
     "data": {
      "text/html": [
       "<pre style=\"white-space:pre;overflow-x:auto;line-height:normal;font-family:Menlo,'DejaVu Sans Mono',consolas,'Courier New',monospace\">┏━━━━━━━━━━━━━━━━━━━━━━━━━━━┳━━━━━━━━━━━━━━━━━━━━━━━━━━━┓\n",
       "┃<span style=\"font-weight: bold\">        Test metric        </span>┃<span style=\"font-weight: bold\">       DataLoader 0        </span>┃\n",
       "┡━━━━━━━━━━━━━━━━━━━━━━━━━━━╇━━━━━━━━━━━━━━━━━━━━━━━━━━━┩\n",
       "│<span style=\"color: #008080; text-decoration-color: #008080\">         test_loss         </span>│<span style=\"color: #800080; text-decoration-color: #800080\">    -10.084478098466915    </span>│\n",
       "└───────────────────────────┴───────────────────────────┘\n",
       "</pre>\n"
      ],
      "text/plain": [
       "┏━━━━━━━━━━━━━━━━━━━━━━━━━━━┳━━━━━━━━━━━━━━━━━━━━━━━━━━━┓\n",
       "┃\u001b[1m \u001b[0m\u001b[1m       Test metric       \u001b[0m\u001b[1m \u001b[0m┃\u001b[1m \u001b[0m\u001b[1m      DataLoader 0       \u001b[0m\u001b[1m \u001b[0m┃\n",
       "┡━━━━━━━━━━━━━━━━━━━━━━━━━━━╇━━━━━━━━━━━━━━━━━━━━━━━━━━━┩\n",
       "│\u001b[36m \u001b[0m\u001b[36m        test_loss        \u001b[0m\u001b[36m \u001b[0m│\u001b[35m \u001b[0m\u001b[35m   -10.084478098466915   \u001b[0m\u001b[35m \u001b[0m│\n",
       "└───────────────────────────┴───────────────────────────┘\n"
      ]
     },
     "metadata": {},
     "output_type": "display_data"
    },
    {
     "data": {
      "text/plain": [
       "[{'test_loss': -10.084478098466915}]"
      ]
     },
     "execution_count": 15,
     "metadata": {},
     "output_type": "execute_result"
    }
   ],
   "source": [
    "trainer.test(network, data_loader_test)"
   ]
  },
  {
   "cell_type": "markdown",
   "id": "78b05d32",
   "metadata": {},
   "source": [
    "---\n",
    "Sampling from the prior"
   ]
  },
  {
   "cell_type": "code",
   "execution_count": 16,
   "id": "0cc7e7ef",
   "metadata": {},
   "outputs": [],
   "source": [
    "prior_samples = sl.Samples(xHI=np.random.rand(200_000, 10).astype('d'))"
   ]
  },
  {
   "cell_type": "markdown",
   "id": "50c24c14",
   "metadata": {},
   "source": [
    "---\n",
    "Predictions for the mock observation (`FAINT GALAXIES` model)"
   ]
  },
  {
   "cell_type": "code",
   "execution_count": 17,
   "id": "5635ac68",
   "metadata": {},
   "outputs": [
    {
     "name": "stderr",
     "output_type": "stream",
     "text": [
      "LOCAL_RANK: 0 - CUDA_VISIBLE_DEVICES: [0]\n"
     ]
    },
    {
     "data": {
      "application/vnd.jupyter.widget-view+json": {
       "model_id": "6b7a68d50db34d03a763373751629846",
       "version_major": 2,
       "version_minor": 0
      },
      "text/plain": [
       "Predicting: 0it [00:00, ?it/s]"
      ]
     },
     "metadata": {},
     "output_type": "display_data"
    },
    {
     "name": "stderr",
     "output_type": "stream",
     "text": [
      "/scratch/p303146/.envs/reach/lib/python3.9/site-packages/pytorch_lightning-1.9.0-py3.9.egg/pytorch_lightning/loops/epoch/prediction_epoch_loop.py:173: UserWarning: Lightning couldn't infer the indices fetched for your dataloader.\n",
      "  warning_cache.warn(\"Lightning couldn't infer the indices fetched for your dataloader.\")\n"
     ]
    }
   ],
   "source": [
    "pred = trainer.infer(network, sl.Sample(obs0), prior_samples)"
   ]
  },
  {
   "cell_type": "markdown",
   "id": "84cea715",
   "metadata": {},
   "source": [
    "---\n",
    "Posteriors on $\\bar{x}_{\\rm HI} (z)$"
   ]
  },
  {
   "cell_type": "code",
   "execution_count": 18,
   "id": "96b36c22",
   "metadata": {},
   "outputs": [
    {
     "data": {
      "image/png": "[encoded data removed]",
      "text/plain": [
       "<Figure size 1200x400 with 10 Axes>"
      ]
     },
     "metadata": {},
     "output_type": "display_data"
    }
   ],
   "source": [
    "fig, ax = plt.subplots(2, 5, figsize=(12, 4), sharex=True, sharey=True)\n",
    "cn = 0\n",
    "for i in range(2):\n",
    "    for j in range(5):\n",
    "        sl.plot_1d(pred, \"z[%d]\"%cn, ax=ax[i, j], bins=200, smooth=3)\n",
    "        ax[i, j].axvline(obs0['xHI'][cn], color=\"r\")\n",
    "        ax[i, j].text(0.1, 20, r'$z=%.1f$'%reds[cn])\n",
    "        cn+=1\n",
    "plt.tight_layout()\n",
    "plt.show()"
   ]
  },
  {
   "cell_type": "markdown",
   "id": "0147026f",
   "metadata": {},
   "source": [
    "---\n",
    "Functionality to obtain $(1, 2, 3)\\sigma$ intervals"
   ]
  },
  {
   "cell_type": "code",
   "execution_count": 19,
   "id": "b49404b8",
   "metadata": {},
   "outputs": [],
   "source": [
    "def get_HDI_thresholds(x, cred_level=[0.68268, 0.95450, 0.99730]):\n",
    "    x = x.flatten()\n",
    "    x = np.sort(x)[::-1]  # Sort backwards\n",
    "    total_mass = x.sum()\n",
    "    enclosed_mass = np.cumsum(x)\n",
    "    idx = [np.argmax(enclosed_mass >= total_mass * f) for f in cred_level]\n",
    "    levels = np.array(x[idx])\n",
    "    return levels\n",
    "\n",
    "def contour1d(z, v, levels, ax=plt, linestyles=None, color=None, **kwargs):\n",
    "    y0 = -1.0 * v.max()\n",
    "    y1 = 5.0 * v.max()\n",
    "    all_levels_1s = z[np.where(v>levels[2])]\n",
    "    all_levels_2s = z[np.where(v>levels[1])]\n",
    "    all_levels_3s = z[np.where(v>levels[0])]\n",
    "    \n",
    "    mode = z[np.where(v==v.max())].item()\n",
    "\n",
    "    min_1s = all_levels_1s[0].item()\n",
    "    max_1s = all_levels_1s[-1].item()\n",
    "    \n",
    "    min_2s = all_levels_2s[0].item()\n",
    "    max_2s = all_levels_2s[-1].item()\n",
    "    \n",
    "    min_3s = all_levels_3s[0].item()\n",
    "    max_3s = all_levels_3s[-1].item()\n",
    "    \n",
    "    # ax.axvline(all_levels_1s[0].numpy(), c=\"r\")\n",
    "    # ax.axvline(all_levels_1s[-1].numpy(), c=\"r\")\n",
    "    # ax.axvline(all_levels_2s[0].numpy(), c=\"g\")\n",
    "    # ax.axvline(all_levels_2s[-1].numpy(), c=\"g\")\n",
    "    # ax.axvline(all_levels_3s[0].numpy(), c=\"b\")\n",
    "    # ax.axvline(all_levels_3s[-1].numpy(), c=\"b\")\n",
    "    \n",
    "    # ax.fill_between(z, y0, y1, where=v > levels[0], color=color, alpha=0.1)\n",
    "    # ax.fill_between(z, y0, y1, where=v > levels[1], color=color, alpha=0.1)\n",
    "    # ax.fill_between(z, y0, y1, where=v > levels[2], color=color, alpha=0.1)\n",
    "    # ax.set_xlim(all_levels_3s[0].numpy(), all_levels_3s[-1].numpy())\n",
    "    return mode, min_1s, max_1s, min_2s, max_2s, min_3s, max_3s\n",
    "\n",
    "def plot_1d(\n",
    "    logratios,\n",
    "    parname,\n",
    "    weights_key=None,\n",
    "    ax=None,\n",
    "    grid_interpolate=False,\n",
    "    bins=100,\n",
    "    color=\"k\",\n",
    "    contours=True,\n",
    "    smooth=0.0,\n",
    "):\n",
    "    \"\"\"Plot 1-dimensional posteriors.\"\"\"\n",
    "    v, zm = sl.lightning.utils.get_pdf(logratios, parname, bins=bins, smooth=smooth)\n",
    "    zm = zm[:, 0]\n",
    "\n",
    "    levels = sorted(get_HDI_thresholds(v))\n",
    "    if contours:\n",
    "        m, min_s1, max_s1, min_s2, max_s2, min_s3, max_s3 = contour1d(zm, v, levels, ax=ax, color=color)\n",
    "    # ax.plot(zm, v, color=color)\n",
    "    # ax.set_xlim([zm.min(), zm.max()])\n",
    "    # ax.set_ylim([-v.max() * 0.05, v.max() * 1.1])\n",
    "    return m, min_s1, max_s1, min_s2, max_s2, min_s3, max_s3"
   ]
  },
  {
   "cell_type": "code",
   "execution_count": 20,
   "id": "3e0a79c1",
   "metadata": {},
   "outputs": [],
   "source": [
    "mode = []\n",
    "min_s1 = []\n",
    "max_s1 = []\n",
    "min_s2 = []\n",
    "max_s2 = []\n",
    "for i in range(10):\n",
    "    m, l_s1, u_s1, l_s2, u_s2, _, _ = plot_1d(pred, \"z[%d]\"%i, bins=200, smooth=3)\n",
    "    mode.append(m)\n",
    "    min_s1.append(m-l_s1)\n",
    "    max_s1.append(u_s1-m)\n",
    "    min_s2.append(m-l_s2)\n",
    "    max_s2.append(u_s2-m)"
   ]
  },
  {
   "cell_type": "markdown",
   "id": "77adb5b0",
   "metadata": {},
   "source": [
    "---\n",
    "Ionization history constraints!"
   ]
  },
  {
   "cell_type": "code",
   "execution_count": 21,
   "id": "f6041b7b",
   "metadata": {},
   "outputs": [
    {
     "data": {
      "image/png": "[encoded data removed]",
      "text/plain": [
       "<Figure size 640x480 with 1 Axes>"
      ]
     },
     "metadata": {},
     "output_type": "display_data"
    }
   ],
   "source": [
    "plotIonzHist(reds=reds, mode=mode, min_s1=min_s1, max_s1=max_s1,\n",
    "            min_s2=min_s2, max_s2=max_s2, obs0=obs0)"
   ]
  },
  {
   "cell_type": "markdown",
   "id": "f0853eee",
   "metadata": {},
   "source": [
    "---\n",
    "Save the information"
   ]
  },
  {
   "cell_type": "code",
   "execution_count": 22,
   "id": "6f6cad69",
   "metadata": {},
   "outputs": [],
   "source": [
    "if not os.path.exists(\"./output/01_xHI_mode_20k.npy\"):\n",
    "    np.save(\"./output/01_xHI_mode_20k.npy\", mode)\n",
    "    np.save(\"./output/01_xHI_1sigma_20k.npy\", errors_1)\n",
    "    np.save(\"./output/01_xHI_2sigma_20k.npy\", errors_2)"
   ]
  },
  {
   "cell_type": "code",
   "execution_count": null,
   "id": "ec2bd8fd",
   "metadata": {},
   "outputs": [],
   "source": []
  }
 ],
 "metadata": {
  "kernelspec": {
   "display_name": "Python 3 (ipykernel)",
   "language": "python",
   "name": "python3"
  },
  "language_info": {
   "codemirror_mode": {
    "name": "ipython",
    "version": 3
   },
   "file_extension": ".py",
   "mimetype": "text/x-python",
   "name": "python",
   "nbconvert_exporter": "python",
   "pygments_lexer": "ipython3",
   "version": "3.9.6"
  }
 },
 "nbformat": 4,
 "nbformat_minor": 5
}
